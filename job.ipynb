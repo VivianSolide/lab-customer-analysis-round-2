{
 "metadata": {
  "language_info": {
   "codemirror_mode": {
    "name": "ipython",
    "version": 3
   },
   "file_extension": ".py",
   "mimetype": "text/x-python",
   "name": "python",
   "nbconvert_exporter": "python",
   "pygments_lexer": "ipython3",
   "version": "3.8.2-final"
  },
  "orig_nbformat": 2,
  "kernelspec": {
   "name": "Python 3.8.2 64-bit",
   "display_name": "Python 3.8.2 64-bit",
   "metadata": {
    "interpreter": {
     "hash": "31f2aee4e71d21fbe5cf8b01ff0e069b9275f58929596ceb00d14d90e3e16cd6"
    }
   }
  }
 },
 "nbformat": 4,
 "nbformat_minor": 2,
 "cells": [
  {
   "cell_type": "code",
   "execution_count": 41,
   "metadata": {
    "tags": []
   },
   "outputs": [
    {
     "output_type": "stream",
     "name": "stdout",
     "text": "[&#39;Customer&#39;, &#39;State&#39;, &#39;Customer Lifetime Value&#39;, &#39;Response&#39;, &#39;Coverage&#39;, &#39;Education&#39;, &#39;Effective To Date&#39;, &#39;EmploymentStatus&#39;, &#39;Gender&#39;, &#39;Income&#39;, &#39;Location Code&#39;, &#39;Marital Status&#39;, &#39;Monthly Premium Auto&#39;, &#39;Months Since Last Claim&#39;, &#39;Months Since Policy Inception&#39;, &#39;Number of Open Complaints&#39;, &#39;Number of Policies&#39;, &#39;Policy Type&#39;, &#39;Policy&#39;, &#39;Renew Offer Type&#39;, &#39;Sales Channel&#39;, &#39;Total Claim Amount&#39;, &#39;Vehicle Class&#39;, &#39;Vehicle Size&#39;]\n      Customer Lifetime Value  Income  Monthly Premium Auto  \\\n0                 2763.519279   56274                    69   \n1                 6979.535903       0                    94   \n2                12887.431650   48767                   108   \n3                 7645.861827       0                   106   \n4                 2813.692575   43836                    73   \n...                       ...     ...                   ...   \n9129             23405.987980   71941                    73   \n9130              3096.511217   21604                    79   \n9131              8163.890428       0                    85   \n9132              7524.442436   21941                    96   \n9133              2611.836866       0                    77   \n\n      Months Since Last Claim  Months Since Policy Inception  \\\n0                          32                              5   \n1                          13                             42   \n2                          18                             38   \n3                          18                             65   \n4                          12                             44   \n...                       ...                            ...   \n9129                       18                             89   \n9130                       14                             28   \n9131                        9                             37   \n9132                       34                              3   \n9133                        3                             90   \n\n      Number of Open Complaints  Number of Policies  Total Claim Amount  \n0                             0                   1          384.811147  \n1                             0                   8         1131.464935  \n2                             0                   2          566.472247  \n3                             0                   7          529.881344  \n4                             0                   1          138.130879  \n...                         ...                 ...                 ...  \n9129                          0                   2          198.234764  \n9130                          0                   1          379.200000  \n9131                          3                   2          790.784983  \n9132                          0                   3          691.200000  \n9133                          0                   1          369.600000  \n\n[9134 rows x 8 columns]\n     Customer       State Response  Coverage Education Effective To Date  \\\n0     BU79786  Washington       No     Basic  Bachelor           2/24/11   \n1     QZ44356     Arizona       No  Extended  Bachelor           1/31/11   \n2     AI49188      Nevada       No   Premium  Bachelor           2/19/11   \n3     WW63253  California       No     Basic  Bachelor           1/20/11   \n4     HB64268  Washington       No     Basic  Bachelor            2/3/11   \n...       ...         ...      ...       ...       ...               ...   \n9129  LA72316  California       No     Basic  Bachelor           2/10/11   \n9130  PK87824  California      Yes  Extended   College           2/12/11   \n9131  TD14365  California       No  Extended  Bachelor            2/6/11   \n9132  UP19263  California       No  Extended   College            2/3/11   \n9133  Y167826  California       No  Extended   College           2/14/11   \n\n     EmploymentStatus Gender Location Code Marital Status     Policy Type  \\\n0            Employed      F      Suburban        Married  Corporate Auto   \n1          Unemployed      F      Suburban         Single   Personal Auto   \n2            Employed      F      Suburban        Married   Personal Auto   \n3          Unemployed      M      Suburban        Married  Corporate Auto   \n4            Employed      M         Rural         Single   Personal Auto   \n...               ...    ...           ...            ...             ...   \n9129         Employed      M         Urban        Married   Personal Auto   \n9130         Employed      F      Suburban       Divorced  Corporate Auto   \n9131       Unemployed      M      Suburban         Single  Corporate Auto   \n9132         Employed      M      Suburban        Married   Personal Auto   \n9133       Unemployed      M      Suburban         Single  Corporate Auto   \n\n            Policy Renew Offer Type Sales Channel  Vehicle Class Vehicle Size  \n0     Corporate L3           Offer1         Agent   Two-Door Car      Medsize  \n1      Personal L3           Offer3         Agent  Four-Door Car      Medsize  \n2      Personal L3           Offer1         Agent   Two-Door Car      Medsize  \n3     Corporate L2           Offer1   Call Center            SUV      Medsize  \n4      Personal L1           Offer1         Agent  Four-Door Car      Medsize  \n...            ...              ...           ...            ...          ...  \n9129   Personal L1           Offer2           Web  Four-Door Car      Medsize  \n9130  Corporate L3           Offer1        Branch  Four-Door Car      Medsize  \n9131  Corporate L2           Offer1        Branch  Four-Door Car      Medsize  \n9132   Personal L2           Offer3        Branch  Four-Door Car        Large  \n9133  Corporate L3           Offer4   Call Center   Two-Door Car      Medsize  \n\n[9134 rows x 16 columns]\n"
    },
    {
     "output_type": "execute_result",
     "data": {
      "text/plain": "0      2011-02-24\n1      2011-01-31\n2      2011-02-19\n3      2011-01-20\n4      2011-02-03\n          ...    \n9129   2011-02-10\n9130   2011-02-12\n9131   2011-02-06\n9132   2011-02-03\n9133   2011-02-14\nName: Effective To Date, Length: 9134, dtype: datetime64[ns]"
     },
     "metadata": {},
     "execution_count": 41
    }
   ],
   "source": [
    "import pandas as pd\n",
    "\n",
    "file1 = pd.read_csv(\"./files_for_lab/marketing_customer_analysis.csv\")\n",
    "\n",
    "# 1. Show the dataframe shape.\n",
    "print(file1.shape)\n",
    "\n",
    "# 2. Standardize header names.\n",
    "print(file1.columns.values.tolist())\n",
    "\n",
    "# 3. Which columns are numerical?\n",
    "numerics = ['int16', 'int32', 'int64', 'float16', 'float32', 'float64']\n",
    "print(file1.select_dtypes(include=numerics))\n",
    "\n",
    "# 4. Which columns are categorical?\n",
    "print(file1.select_dtypes(exclude=numerics))\n",
    "\n",
    "# 5. Check and deal with `NaN` values.\n",
    "file1.isnull().sum()\n",
    "\n",
    "# 6. Datetime format.\n",
    "pd.to_datetime(file1[\"Effective To Date\"])\n",
    "\n",
    "# 7. BONUS: Put all the previously mentioned data transformations into a function.\n",
    "\n",
    "\n"
   ]
  }
 ]
}